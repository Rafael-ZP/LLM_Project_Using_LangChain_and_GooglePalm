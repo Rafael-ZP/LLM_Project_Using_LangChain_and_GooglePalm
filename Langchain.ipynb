{
  "cells": [
    {
      "cell_type": "code",
      "execution_count": 8,
      "metadata": {
        "id": "r-NRqgUr4R6f"
      },
      "outputs": [],
      "source": [
        "from langchain.llms import GooglePalm\n",
        "\n",
        "api_key = 'Your API Key Here'\n",
        "\n",
        "llm = GooglePalm(google_api_key=api_key, temperature=0.7)"
      ]
    },
    {
      "cell_type": "code",
      "execution_count": 9,
      "metadata": {
        "colab": {
          "base_uri": "https://localhost:8080/",
          "height": 694
        },
        "id": "A3fH7d1v4q-O",
        "outputId": "8fa1cd80-2e86-4c70-adcf-703487e16f7c"
      },
      "outputs": [
        {
          "name": "stdout",
          "output_type": "stream",
          "text": [
            "(Verse 1)\n",
            "John, John, the man of the hour\n",
            "Always there to lend a hand\n",
            "He's got a heart of gold\n",
            "And a smile that never fades\n",
            "\n",
            "(Chorus)\n",
            "John, John, you're one of a kind\n",
            "A true friend to all\n",
            "We're so lucky to have you\n",
            "In our lives\n",
            "\n",
            "(Verse 2)\n",
            "John, John, you always know how to make us laugh\n",
            "With your funny stories and jokes\n",
            "You're always there for us\n",
            "When we need you the most\n",
            "\n",
            "(Chorus)\n",
            "John, John, you're one of a kind\n",
            "A true friend to all\n",
            "We're so lucky to have you\n",
            "In our lives\n",
            "\n",
            "(Bridge)\n",
            "We'll cherish the memories we've made\n",
            "With you, John\n",
            "You'll always hold a special place in our hearts\n",
            "\n",
            "(Chorus)\n",
            "John, John, you're one of a kind\n",
            "A true friend to all\n",
            "We're so lucky to have you\n",
            "In our lives\n"
          ]
        }
      ],
      "source": [
        "Song = llm(\"Write me a song about John\")\n",
        "print(Song)"
      ]
    },
    {
      "cell_type": "code",
      "execution_count": 13,
      "metadata": {
        "id": "MtTigven5ZET"
      },
      "outputs": [],
      "source": [
        "from langchain.document_loaders.csv_loader import CSVLoader\n",
        "\n",
        "loader = CSVLoader(file_path='/Users/rafaelzieganpalg/Projects/LangChain_Project/Rafael_QA/Stan_Data_UPG.csv',source_column='question')\n",
        "\n",
        "data = loader.load()"
      ]
    },
    {
      "cell_type": "code",
      "execution_count": 14,
      "metadata": {
        "colab": {
          "base_uri": "https://localhost:8080/",
          "height": 391
        },
        "id": "d6yGPbw-9pzX",
        "outputId": "420badd3-1a85-4233-c3e4-a146bf956cd8"
      },
      "outputs": [
        {
          "name": "stdout",
          "output_type": "stream",
          "text": [
            "load INSTRUCTOR_Transformer\n"
          ]
        },
        {
          "name": "stderr",
          "output_type": "stream",
          "text": [
            "/Library/Frameworks/Python.framework/Versions/3.10/lib/python3.10/site-packages/bitsandbytes/cextension.py:34: UserWarning: The installed version of bitsandbytes was compiled without GPU support. 8-bit optimizers, 8-bit multiplication, and GPU quantization are unavailable.\n",
            "  warn(\"The installed version of bitsandbytes was compiled without GPU support. \"\n"
          ]
        },
        {
          "name": "stdout",
          "output_type": "stream",
          "text": [
            "'NoneType' object has no attribute 'cadam32bit_grad_fp32'\n",
            "max_seq_length  512\n"
          ]
        }
      ],
      "source": [
        "from langchain.embeddings import HuggingFaceInstructEmbeddings\n",
        "from langchain.vectorstores import FAISS\n",
        "\n",
        "embeddings = HuggingFaceInstructEmbeddings()\n",
        "Vector_db=FAISS.from_documents(documents=data, embedding=embeddings)"
      ]
    },
    {
      "cell_type": "code",
      "execution_count": 15,
      "metadata": {
        "id": "Wc-mS83vG5lR"
      },
      "outputs": [
        {
          "name": "stderr",
          "output_type": "stream",
          "text": [
            "/Library/Frameworks/Python.framework/Versions/3.10/lib/python3.10/site-packages/langchain_core/_api/deprecation.py:119: LangChainDeprecationWarning: The method `BaseRetriever.get_relevant_documents` was deprecated in langchain-core 0.1.46 and will be removed in 0.3.0. Use invoke instead.\n",
            "  warn_deprecated(\n"
          ]
        },
        {
          "data": {
            "text/plain": [
              "[Document(page_content=': 4\\nquestion: In which decade did Beyonce become famous?\\ntext: late 1990s', metadata={'source': 'In which decade did Beyonce become famous?', 'row': 4}),\n",
              " Document(page_content=': 8\\nquestion: When did Beyoncé rise to fame?\\ntext: late 1990s', metadata={'source': 'When did Beyoncé rise to fame?', 'row': 8}),\n",
              " Document(page_content=\": 417\\nquestion: Why is Beyoncé known as the centerpiece of Destiny's Child?\\ntext: Her vocal abilities\", metadata={'source': \"Why is Beyoncé known as the centerpiece of Destiny's Child?\", 'row': 417}),\n",
              " Document(page_content=': 546\\nquestion: Beyonce has a fan base that is referred to as what?\\ntext: The Bey Hive', metadata={'source': 'Beyonce has a fan base that is referred to as what?', 'row': 546})]"
            ]
          },
          "execution_count": 15,
          "metadata": {},
          "output_type": "execute_result"
        }
      ],
      "source": [
        "retriever = Vector_db.as_retriever()\n",
        "r_docs=retriever.get_relevant_documents(\"Who is Beyonce?\")\n",
        "r_docs"
      ]
    },
    {
      "cell_type": "code",
      "execution_count": 16,
      "metadata": {},
      "outputs": [],
      "source": [
        "from langchain.prompts import PromptTemplate\n",
        "prompt_template = \"\"\"Given the following context and a question, generate an answer based on this context only.\n",
        "In the answer try to provide as much text as possible from \"response\" section in the source document context without making much changes.\n",
        "If the answer is not found in the context, kindly state \"I don't know.\" Don't try to make up an answer.\n",
        "\n",
        "CONTEXT: {context}\n",
        "\n",
        "QUESTION: {question}\"\"\"\n",
        "\n",
        "\n",
        "PROMPT = PromptTemplate(\n",
        "    template=prompt_template, input_variables=[\"context\", \"question\"]\n",
        ")\n",
        "chain_type_kwargs = {\"prompt\": PROMPT}"
      ]
    },
    {
      "cell_type": "code",
      "execution_count": 17,
      "metadata": {},
      "outputs": [],
      "source": [
        "from langchain.chains import RetrievalQA\n",
        "chain = RetrievalQA.from_chain_type(\n",
        "        llm=llm,\n",
        "        chain_type=\"stuff\",\n",
        "        retriever=retriever,\n",
        "        input_key=\"query\",\n",
        "        return_source_documents= True,\n",
        "        chain_type_kwargs= chain_type_kwargs\n",
        ")"
      ]
    },
    {
      "cell_type": "code",
      "execution_count": 18,
      "metadata": {},
      "outputs": [
        {
          "name": "stderr",
          "output_type": "stream",
          "text": [
            "/Library/Frameworks/Python.framework/Versions/3.10/lib/python3.10/site-packages/langchain_core/_api/deprecation.py:119: LangChainDeprecationWarning: The method `Chain.__call__` was deprecated in langchain 0.1.0 and will be removed in 0.3.0. Use invoke instead.\n",
            "  warn_deprecated(\n"
          ]
        },
        {
          "data": {
            "text/plain": [
              "{'query': 'Who is Beyonce',\n",
              " 'result': 'married to? text: Jay-Z',\n",
              " 'source_documents': [Document(page_content=': 4\\nquestion: In which decade did Beyonce become famous?\\ntext: late 1990s', metadata={'source': 'In which decade did Beyonce become famous?', 'row': 4}),\n",
              "  Document(page_content=\": 417\\nquestion: Why is Beyoncé known as the centerpiece of Destiny's Child?\\ntext: Her vocal abilities\", metadata={'source': \"Why is Beyoncé known as the centerpiece of Destiny's Child?\", 'row': 417}),\n",
              "  Document(page_content=': 546\\nquestion: Beyonce has a fan base that is referred to as what?\\ntext: The Bey Hive', metadata={'source': 'Beyonce has a fan base that is referred to as what?', 'row': 546}),\n",
              "  Document(page_content=': 8\\nquestion: When did Beyoncé rise to fame?\\ntext: late 1990s', metadata={'source': 'When did Beyoncé rise to fame?', 'row': 8})]}"
            ]
          },
          "execution_count": 18,
          "metadata": {},
          "output_type": "execute_result"
        }
      ],
      "source": [
        "chain(\"Who is Beyonce\")"
      ]
    }
  ],
  "metadata": {
    "colab": {
      "provenance": []
    },
    "kernelspec": {
      "display_name": "Python 3",
      "name": "python3"
    },
    "language_info": {
      "codemirror_mode": {
        "name": "ipython",
        "version": 3
      },
      "file_extension": ".py",
      "mimetype": "text/x-python",
      "name": "python",
      "nbconvert_exporter": "python",
      "pygments_lexer": "ipython3",
      "version": "3.10.10"
    }
  },
  "nbformat": 4,
  "nbformat_minor": 0
}
